{
 "cells": [
  {
   "cell_type": "code",
   "execution_count": 1,
   "metadata": {},
   "outputs": [],
   "source": [
    "#importing the needed libraries\n",
    "import pandas as pd\n",
    "import numpy as np\n",
    "import matplotlib.pyplot as plt"
   ]
  },
  {
   "cell_type": "code",
   "execution_count": 3,
   "metadata": {},
   "outputs": [],
   "source": [
    "#Reading the data\n",
    "raw_data=pd.read_csv('electric_utilities.csv')"
   ]
  },
  {
   "cell_type": "code",
   "execution_count": 4,
   "metadata": {},
   "outputs": [
    {
     "data": {
      "text/html": [
       "<div>\n",
       "<style scoped>\n",
       "    .dataframe tbody tr th:only-of-type {\n",
       "        vertical-align: middle;\n",
       "    }\n",
       "\n",
       "    .dataframe tbody tr th {\n",
       "        vertical-align: top;\n",
       "    }\n",
       "\n",
       "    .dataframe thead th {\n",
       "        text-align: right;\n",
       "    }\n",
       "</style>\n",
       "<table border=\"1\" class=\"dataframe\">\n",
       "  <thead>\n",
       "    <tr style=\"text-align: right;\">\n",
       "      <th></th>\n",
       "      <th>record_id</th>\n",
       "      <th>utility_id_ferc1</th>\n",
       "      <th>report_year</th>\n",
       "      <th>plant_name_ferc1</th>\n",
       "      <th>fuel_type_code_pudl</th>\n",
       "      <th>fuel_unit</th>\n",
       "      <th>fuel_qty_burned</th>\n",
       "      <th>fuel_mmbtu_per_unit</th>\n",
       "      <th>fuel_cost_per_unit_burned</th>\n",
       "      <th>fuel_cost_per_unit_delivered</th>\n",
       "      <th>fuel_cost_per_mmbtu</th>\n",
       "    </tr>\n",
       "  </thead>\n",
       "  <tbody>\n",
       "    <tr>\n",
       "      <td>0</td>\n",
       "      <td>f1_fuel_1994_12_1_0_7</td>\n",
       "      <td>1</td>\n",
       "      <td>1994</td>\n",
       "      <td>rockport</td>\n",
       "      <td>coal</td>\n",
       "      <td>ton</td>\n",
       "      <td>5377489</td>\n",
       "      <td>16.590</td>\n",
       "      <td>18.59</td>\n",
       "      <td>18.53</td>\n",
       "      <td>1.121</td>\n",
       "    </tr>\n",
       "    <tr>\n",
       "      <td>1</td>\n",
       "      <td>f1_fuel_1994_12_1_0_10</td>\n",
       "      <td>1</td>\n",
       "      <td>1994</td>\n",
       "      <td>rockport total plant</td>\n",
       "      <td>coal</td>\n",
       "      <td>ton</td>\n",
       "      <td>10486945</td>\n",
       "      <td>16.592</td>\n",
       "      <td>18.58</td>\n",
       "      <td>18.53</td>\n",
       "      <td>1.120</td>\n",
       "    </tr>\n",
       "    <tr>\n",
       "      <td>2</td>\n",
       "      <td>f1_fuel_1994_12_2_0_1</td>\n",
       "      <td>2</td>\n",
       "      <td>1994</td>\n",
       "      <td>gorgas</td>\n",
       "      <td>coal</td>\n",
       "      <td>ton</td>\n",
       "      <td>2978683</td>\n",
       "      <td>24.130</td>\n",
       "      <td>39.72</td>\n",
       "      <td>38.12</td>\n",
       "      <td>1.650</td>\n",
       "    </tr>\n",
       "    <tr>\n",
       "      <td>3</td>\n",
       "      <td>f1_fuel_1994_12_2_0_7</td>\n",
       "      <td>2</td>\n",
       "      <td>1994</td>\n",
       "      <td>barry</td>\n",
       "      <td>coal</td>\n",
       "      <td>ton</td>\n",
       "      <td>3739484</td>\n",
       "      <td>23.950</td>\n",
       "      <td>47.21</td>\n",
       "      <td>45.99</td>\n",
       "      <td>1.970</td>\n",
       "    </tr>\n",
       "    <tr>\n",
       "      <td>4</td>\n",
       "      <td>f1_fuel_1994_12_2_0_10</td>\n",
       "      <td>2</td>\n",
       "      <td>1994</td>\n",
       "      <td>chickasaw</td>\n",
       "      <td>gas</td>\n",
       "      <td>mcf</td>\n",
       "      <td>40533</td>\n",
       "      <td>1.000</td>\n",
       "      <td>2.77</td>\n",
       "      <td>2.77</td>\n",
       "      <td>2.570</td>\n",
       "    </tr>\n",
       "  </tbody>\n",
       "</table>\n",
       "</div>"
      ],
      "text/plain": [
       "                record_id  utility_id_ferc1  report_year  \\\n",
       "0   f1_fuel_1994_12_1_0_7                 1         1994   \n",
       "1  f1_fuel_1994_12_1_0_10                 1         1994   \n",
       "2   f1_fuel_1994_12_2_0_1                 2         1994   \n",
       "3   f1_fuel_1994_12_2_0_7                 2         1994   \n",
       "4  f1_fuel_1994_12_2_0_10                 2         1994   \n",
       "\n",
       "       plant_name_ferc1 fuel_type_code_pudl fuel_unit  fuel_qty_burned  \\\n",
       "0              rockport                coal       ton          5377489   \n",
       "1  rockport total plant                coal       ton         10486945   \n",
       "2                gorgas                coal       ton          2978683   \n",
       "3                 barry                coal       ton          3739484   \n",
       "4             chickasaw                 gas       mcf            40533   \n",
       "\n",
       "   fuel_mmbtu_per_unit  fuel_cost_per_unit_burned  \\\n",
       "0               16.590                      18.59   \n",
       "1               16.592                      18.58   \n",
       "2               24.130                      39.72   \n",
       "3               23.950                      47.21   \n",
       "4                1.000                       2.77   \n",
       "\n",
       "   fuel_cost_per_unit_delivered  fuel_cost_per_mmbtu  \n",
       "0                         18.53                1.121  \n",
       "1                         18.53                1.120  \n",
       "2                         38.12                1.650  \n",
       "3                         45.99                1.970  \n",
       "4                          2.77                2.570  "
      ]
     },
     "execution_count": 4,
     "metadata": {},
     "output_type": "execute_result"
    }
   ],
   "source": [
    "#Taking a sneek peek to the data\n",
    "raw_data.head()"
   ]
  },
  {
   "cell_type": "code",
   "execution_count": 5,
   "metadata": {},
   "outputs": [
    {
     "name": "stdout",
     "output_type": "stream",
     "text": [
      "10.6 17.01\n"
     ]
    }
   ],
   "source": [
    "#getting standard deviation and seventy five percentile\n",
    "standard_deviation=raw_data['fuel_mmbtu_per_unit'].std()\n",
    "standard_deviation_round=round(standard_deviation, 2)\n",
    "\n",
    "seventyfive_percentile=np.percentile(raw_data['fuel_mmbtu_per_unit'], 75)\n",
    "seventyfive_percentile_round=round(seventyfive_percentile, 2)\n",
    "\n",
    "print(standard_deviation_round, seventyfive_percentile_round)\n"
   ]
  },
  {
   "cell_type": "code",
   "execution_count": 6,
   "metadata": {},
   "outputs": [
    {
     "name": "stdout",
     "output_type": "stream",
     "text": [
      "15.85 651.37\n"
     ]
    }
   ],
   "source": [
    "#skewness and kurtosis for fuel_qty_burned\n",
    "skew_fuel_qty_burned=raw_data['fuel_qty_burned'].skew()\n",
    "skew_fuel_qty_burned_round=round(skew_fuel_qty_burned, 2)\n",
    "\n",
    "kurtosis_fuel_qty_burned=raw_data['fuel_qty_burned'].kurt()\n",
    "kurtosis_fuel_qty_burned_round=round(kurtosis_fuel_qty_burned, 2)\n",
    "\n",
    "print(skew_fuel_qty_burned_round,kurtosis_fuel_qty_burned_round)\n"
   ]
  },
  {
   "cell_type": "code",
   "execution_count": 7,
   "metadata": {},
   "outputs": [
    {
     "data": {
      "text/plain": [
       "record_id                         0\n",
       "utility_id_ferc1                  0\n",
       "report_year                       0\n",
       "plant_name_ferc1                  0\n",
       "fuel_type_code_pudl               0\n",
       "fuel_unit                       180\n",
       "fuel_qty_burned                   0\n",
       "fuel_mmbtu_per_unit               0\n",
       "fuel_cost_per_unit_burned         0\n",
       "fuel_cost_per_unit_delivered      0\n",
       "fuel_cost_per_mmbtu               0\n",
       "dtype: int64"
      ]
     },
     "execution_count": 7,
     "metadata": {},
     "output_type": "execute_result"
    }
   ],
   "source": [
    "#missing values\n",
    "raw_data.isnull().sum()"
   ]
  },
  {
   "cell_type": "code",
   "execution_count": 8,
   "metadata": {},
   "outputs": [
    {
     "name": "stdout",
     "output_type": "stream",
     "text": [
      "record_id                       0.00\n",
      "utility_id_ferc1                0.00\n",
      "report_year                     0.00\n",
      "plant_name_ferc1                0.00\n",
      "fuel_type_code_pudl             0.00\n",
      "fuel_unit                       0.61\n",
      "fuel_qty_burned                 0.00\n",
      "fuel_mmbtu_per_unit             0.00\n",
      "fuel_cost_per_unit_burned       0.00\n",
      "fuel_cost_per_unit_delivered    0.00\n",
      "fuel_cost_per_mmbtu             0.00\n",
      "dtype: float64\n"
     ]
    }
   ],
   "source": [
    "#getting the percentage\n",
    "total=raw_data.isnull().sum()\n",
    "percent=(raw_data.isnull().sum()/raw_data.isnull().count())*100\n",
    "percent_round=round(percent, 3)\n",
    "\n",
    "print(percent_round)"
   ]
  },
  {
   "cell_type": "code",
   "execution_count": 9,
   "metadata": {},
   "outputs": [
    {
     "name": "stdout",
     "output_type": "stream",
     "text": [
      "utility_id_ferc1               -0.037863\n",
      "fuel_qty_burned                -0.018535\n",
      "fuel_mmbtu_per_unit            -0.010034\n",
      "fuel_cost_per_mmbtu            -0.000437\n",
      "fuel_cost_per_unit_delivered    0.011007\n",
      "report_year                     0.013599\n",
      "fuel_cost_per_unit_burned       1.000000\n",
      "Name: fuel_cost_per_unit_burned, dtype: float64\n"
     ]
    }
   ],
   "source": [
    "#getting correlation with respect to fuel cost per unit burned\n",
    "\n",
    "correlation = raw_data.corr()\n",
    "print(correlation['fuel_cost_per_unit_burned'].sort_values(ascending = True))"
   ]
  },
  {
   "cell_type": "code",
   "execution_count": 11,
   "metadata": {},
   "outputs": [
    {
     "name": "stdout",
     "output_type": "stream",
     "text": [
      "     fuel_type_code_pudl  report_year  fuel_cost_per_unit_burned\n",
      "0                   coal         1994                      18.59\n",
      "1                   coal         1994                      18.58\n",
      "2                   coal         1994                      39.72\n",
      "3                   coal         1994                      47.21\n",
      "5                   coal         1994                      44.24\n",
      "...                  ...          ...                        ...\n",
      "1224                coal         1994                      37.78\n",
      "1227                coal         1994                      38.23\n",
      "1229                coal         1994                      40.97\n",
      "1230                coal         1994                      39.95\n",
      "1232                coal         1994                      39.19\n",
      "\n",
      "[475 rows x 3 columns]\n",
      "14984.572000000002\n"
     ]
    }
   ],
   "source": [
    "#%change in the fuel cost per unit burned in 1998 compared to 1994 for fueltype coal\n",
    "\n",
    "#let me get the list of fuel_cost_per_unit_burned that is coal in 1994\n",
    "\n",
    "fuel_ist= raw_data.loc[(raw_data['fuel_type_code_pudl'] == 'coal') & (raw_data['report_year'] == 1994)  & (raw_data['fuel_cost_per_unit_burned']), ['fuel_type_code_pudl','report_year', 'fuel_cost_per_unit_burned' ]]\n",
    "print(fuel_ist)\n",
    "\n",
    "#get the sum of the fuel_cost_per_unit_burned column\n",
    "summa_ist = fuel_ist['fuel_cost_per_unit_burned'].sum()\n",
    "print(summa_ist)"
   ]
  },
  {
   "cell_type": "code",
   "execution_count": 13,
   "metadata": {},
   "outputs": [
    {
     "name": "stdout",
     "output_type": "stream",
     "text": [
      "     fuel_type_code_pudl  report_year  fuel_cost_per_unit_burned\n",
      "4618                coal         1998                     19.282\n",
      "4619                coal         1998                     19.280\n",
      "4620                coal         1998                     26.550\n",
      "4622                coal         1998                     26.550\n",
      "4624                coal         1998                     30.936\n",
      "...                  ...          ...                        ...\n",
      "5708                coal         1998                     15.151\n",
      "5710                coal         1998                     21.055\n",
      "5712                coal         1998                     22.596\n",
      "5714                coal         1998                     14.035\n",
      "5716                coal         1998                     24.875\n",
      "\n",
      "[431 rows x 3 columns]\n",
      "11902.597\n"
     ]
    }
   ],
   "source": [
    "#let me get the list of fuel_cost_per_unit_burned that is coal in 1998\n",
    "\n",
    "fuel_2nd = raw_data.loc[(raw_data['fuel_type_code_pudl'] == 'coal') & (raw_data['report_year'] == 1998)  & (raw_data['fuel_cost_per_unit_burned']), ['fuel_type_code_pudl','report_year', 'fuel_cost_per_unit_burned' ]]\n",
    "print(fuel_2nd)\n",
    "\n",
    "summa_2nd = fuel_2nd['fuel_cost_per_unit_burned'].sum()\n",
    "print(summa_2nd)"
   ]
  },
  {
   "cell_type": "code",
   "execution_count": 16,
   "metadata": {},
   "outputs": [
    {
     "name": "stdout",
     "output_type": "stream",
     "text": [
      "-20.56765451826053\n"
     ]
    }
   ],
   "source": [
    "#getting the percentage change\n",
    "\n",
    "percent_change=((summa_2nd-summa_ist)/summa_ist)*100\n",
    "print(percent_change)"
   ]
  },
  {
   "cell_type": "code",
   "execution_count": 17,
   "metadata": {},
   "outputs": [
    {
     "name": "stdout",
     "output_type": "stream",
     "text": [
      "report_year\n",
      "1994       63.636060\n",
      "1995       32.735269\n",
      "1996     9196.705948\n",
      "1997    11140.197239\n",
      "1998      287.154420\n",
      "1999       25.551627\n",
      "2000      985.362877\n",
      "2001       60.050396\n",
      "2002       47.594361\n",
      "2003       55.663493\n",
      "2004      139.524275\n",
      "2005       41.438184\n",
      "2006       38.657484\n",
      "2007       43.325023\n",
      "2008       58.588197\n",
      "2009      652.694163\n",
      "2010       91.862105\n",
      "2011       59.774667\n",
      "2012       60.994502\n",
      "2013      172.307591\n",
      "2014      192.737183\n",
      "2015      326.535511\n",
      "2016      103.901761\n",
      "2017       46.196861\n",
      "2018      499.269966\n",
      "Name: fuel_cost_per_unit_delivered, dtype: float64\n"
     ]
    }
   ],
   "source": [
    "#which year has the highest average fuel cost per unit delivered\n",
    " \n",
    "repo_yr=raw_data.groupby(['report_year']).fuel_cost_per_unit_delivered.mean()\n",
    "print(repo_yr)"
   ]
  },
  {
   "cell_type": "code",
   "execution_count": 18,
   "metadata": {},
   "outputs": [
    {
     "name": "stdout",
     "output_type": "stream",
     "text": [
      "fuel_type_code_pudl\n",
      "coal         67.421830\n",
      "gas          13.659397\n",
      "nuclear    4955.157002\n",
      "oil         168.877086\n",
      "other        18.253856\n",
      "waste        19.518122\n",
      "Name: fuel_cost_per_unit_burned, dtype: float64\n"
     ]
    }
   ],
   "source": [
    "#checking the fuel with the lowest avg fuel cost per unit burned\n",
    "fuel_type=raw_data.groupby(['fuel_type_code_pudl']).fuel_cost_per_unit_burned.mean()\n",
    "print(fuel_type)"
   ]
  },
  {
   "cell_type": "code",
   "execution_count": null,
   "metadata": {},
   "outputs": [],
   "source": []
  }
 ],
 "metadata": {
  "kernelspec": {
   "display_name": "Python 3",
   "language": "python",
   "name": "python3"
  },
  "language_info": {
   "codemirror_mode": {
    "name": "ipython",
    "version": 3
   },
   "file_extension": ".py",
   "mimetype": "text/x-python",
   "name": "python",
   "nbconvert_exporter": "python",
   "pygments_lexer": "ipython3",
   "version": "3.7.4"
  }
 },
 "nbformat": 4,
 "nbformat_minor": 2
}
